{
 "cells": [
  {
   "cell_type": "code",
   "execution_count": 1,
   "id": "9dafd71e-411b-427e-b0b6-c46c16ce0a92",
   "metadata": {},
   "outputs": [],
   "source": [
    "## *********************************************************************************************** ##\n",
    "## ******************************************* ARRAYS ******************************************** ##\n",
    "## *********************************************************************************************** ##"
   ]
  },
  {
   "cell_type": "code",
   "execution_count": 6,
   "id": "27c52333-5123-4a8a-9cda-b7d7bf3bf7a4",
   "metadata": {},
   "outputs": [
    {
     "name": "stdout",
     "output_type": "stream",
     "text": [
      "True\n"
     ]
    }
   ],
   "source": [
    "# 1. Given an array, check if it contains any duplicates or not. \n",
    "\n",
    "## arr = [1, 2, 4, 2, 5, 9] \n",
    "## Output = True\n",
    "\n",
    "\n",
    "## Function to check duplicates\n",
    "def check_duplicates(arr):\n",
    "    \n",
    "    for i in range(len(arr)):\n",
    "        \n",
    "        for j in range(i+1, len(arr)):\n",
    "            \n",
    "            if arr[i] == arr[j]:\n",
    "                return True\n",
    "            \n",
    "    return False\n",
    "\n",
    "## Driver's Program\n",
    "if __name__ == \"__main__\":\n",
    "    \n",
    "    arr = [1, 2, 4, 2, 5, 9]\n",
    "    \n",
    "    print(check_duplicates(arr))"
   ]
  },
  {
   "cell_type": "code",
   "execution_count": 12,
   "id": "0b24c92b-7893-49c9-8ce8-3065e1d4972c",
   "metadata": {},
   "outputs": [
    {
     "name": "stdout",
     "output_type": "stream",
     "text": [
      "[5, 6, 7, 1, 2, 3, 4]\n"
     ]
    }
   ],
   "source": [
    "# 2. Given an array and an integer k, rotate the array to the right by k steps.\n",
    "\n",
    "## arr = [1, 2, 3, 4, 5, 6, 7] k = 3 \n",
    "## Output = [5, 6, 7, 1, 2, 3, 4]\n",
    "\n",
    "\n",
    "## Function to rotate an array\n",
    "def rotate_array(arr, k):\n",
    "    \n",
    "    if(len(arr) == 0):\n",
    "        return arr\n",
    "    \n",
    "    # Finding length of array\n",
    "    n = len(arr)\n",
    "    \n",
    "    \n",
    "    # initializing empty array\n",
    "    rotated_arr = [0] * n\n",
    "    \n",
    "    \n",
    "    # Rotating the array\n",
    "    for i in range(len(arr)):\n",
    "        rotated_arr[(i + k) % n] = arr[i]\n",
    "    \n",
    "    \n",
    "    return rotated_arr\n",
    "\n",
    "## Driver's program\n",
    "\n",
    "if __name__ == \"__main__\":\n",
    "    \n",
    "    arr = [1, 2, 3, 4, 5, 6, 7]\n",
    "    k = 3 \n",
    "    \n",
    "    result = rotate_array(arr, k)\n",
    "    \n",
    "    print(result)"
   ]
  },
  {
   "cell_type": "code",
   "execution_count": 14,
   "id": "433eca7b-e548-4930-a565-bd87e01c90d9",
   "metadata": {},
   "outputs": [
    {
     "name": "stdout",
     "output_type": "stream",
     "text": [
      "[12, 9, 7, 5, 4, 2]\n"
     ]
    }
   ],
   "source": [
    "# 3. Reverse the given array in-place, means without using any extra data structure.\n",
    "\n",
    "## arr = [2, 4, 5, 7, 9, 12] \n",
    "## Output = [12, 9, 7, 5, 4, 2]\n",
    "\n",
    "\n",
    "## Funciton to reverse an array\n",
    "def reverse_array(arr):\n",
    "    \n",
    "    start = 0\n",
    "    end = len(arr) - 1\n",
    "    \n",
    "    while(start < end):\n",
    "        arr[start], arr[end] = arr[end], arr[start]\n",
    "        start += 1\n",
    "        end -= 1\n",
    "        \n",
    "    return arr\n",
    "\n",
    "\n",
    "## Driver's Program\n",
    "\n",
    "if __name__ == \"__main__\":\n",
    "    \n",
    "    arr = [2, 4, 5, 7, 9, 12] \n",
    "    \n",
    "    result = reverse_array(arr)\n",
    "    \n",
    "    print(result)"
   ]
  },
  {
   "cell_type": "code",
   "execution_count": 19,
   "id": "51b3421d-c3c7-456d-985c-bf709a9020d8",
   "metadata": {},
   "outputs": [
    {
     "name": "stdout",
     "output_type": "stream",
     "text": [
      "20\n"
     ]
    }
   ],
   "source": [
    "# 4. Given an array of integers, find the maximum element in an array\n",
    "\n",
    "##  arr = [10, 5, 20, 8, 15]\n",
    "\n",
    "##  Output = 20\n",
    "\n",
    "\n",
    "## Funcion to reverse an array\n",
    "\n",
    "def find_maximum(arr):\n",
    "    \n",
    "    n = len(arr)\n",
    "    \n",
    "    maximum = float('-inf')\n",
    "    \n",
    "    for i in range(n):\n",
    "        \n",
    "        if(arr[i] > maximum):\n",
    "            maximum = arr[i]\n",
    "    \n",
    "    return maximum\n",
    "\n",
    "\n",
    "## Driver's Program\n",
    "\n",
    "if __name__ == \"__main__\":\n",
    "    \n",
    "    arr = [10, 5, 20, 8, 15]\n",
    "    \n",
    "    max_element = find_maximum(arr)\n",
    "    \n",
    "    print(max_element)"
   ]
  },
  {
   "cell_type": "code",
   "execution_count": 33,
   "id": "cad73a63-33fe-4078-99e8-08e7e27334ee",
   "metadata": {},
   "outputs": [
    {
     "name": "stdout",
     "output_type": "stream",
     "text": [
      "[1, 2, 3, 4, 5]\n"
     ]
    }
   ],
   "source": [
    "# 5. Given a sorted array, remove the duplicate element without using any extra data structure. \n",
    "\n",
    "## arr = [1, 1, 2, 2, 2, 3, 3, 4, 4, 4, 5, 5] \n",
    "## Output = [1, 2, 3, 4, 5]\n",
    "\n",
    "\n",
    "## Function to remove duplicates\n",
    "def remove_duplicates(arr):\n",
    "    \n",
    "    if(len(arr) == 0):\n",
    "        return arr\n",
    "    \n",
    "    n = len(arr)\n",
    "\n",
    "    unique_end = 0\n",
    "    for i in range(1, n):\n",
    "        \n",
    "        if(arr[i] != arr[unique_end]):\n",
    "            unique_end += 1\n",
    "            arr[unique_end] = arr[i]\n",
    "            \n",
    "        \n",
    "    del arr[unique_end + 1:]\n",
    "            \n",
    "            \n",
    "## Driver's Program\n",
    "if __name__ == \"__main__\":\n",
    "    \n",
    "    arr = [1, 1, 2, 2, 2, 3, 3, 4, 4, 4, 5, 5] \n",
    "    \n",
    "    remove_duplicates(arr)\n",
    "    \n",
    "    print(arr)"
   ]
  },
  {
   "cell_type": "code",
   "execution_count": null,
   "id": "49ce4ccb-8e4e-4882-babd-9ea9017a17af",
   "metadata": {},
   "outputs": [],
   "source": [
    "## ******************************************************************************************************** ##\n",
    "## ******************************************************************************************************** ##\n",
    "## ******************************************************************************************************** ##"
   ]
  }
 ],
 "metadata": {
  "kernelspec": {
   "display_name": "Python 3 (ipykernel)",
   "language": "python",
   "name": "python3"
  },
  "language_info": {
   "codemirror_mode": {
    "name": "ipython",
    "version": 3
   },
   "file_extension": ".py",
   "mimetype": "text/x-python",
   "name": "python",
   "nbconvert_exporter": "python",
   "pygments_lexer": "ipython3",
   "version": "3.10.8"
  }
 },
 "nbformat": 4,
 "nbformat_minor": 5
}
